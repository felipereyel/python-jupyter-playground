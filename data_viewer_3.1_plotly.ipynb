{
 "cells": [
  {
   "cell_type": "code",
   "execution_count": 1,
   "metadata": {},
   "outputs": [],
   "source": [
    "import numpy as np\n",
    "import datetime as dt\n",
    "import pandas as pd\n",
    "import plotly\n",
    "import plotly.plotly as py\n",
    "import plotly.graph_objs as go"
   ]
  },
  {
   "cell_type": "code",
   "execution_count": 2,
   "metadata": {},
   "outputs": [],
   "source": [
    "dataset = {\n",
    "    \"station_id\": [],\n",
    "    \"base_timestamp\": [],\n",
    "    \"t_inside\": [],\n",
    "    \"t_near\": [],\n",
    "    \"t_far\": [],\n",
    "    \"n_inside\": [],\n",
    "    \"n_near\": [],\n",
    "    \"n_far\": []\n",
    "}\n",
    "n_max = 10000\n",
    "t_max = 300000\n",
    "alpha_inside = 0.01\n",
    "alpha_near = 0.2\n",
    "alpha_far = 1\n",
    "\n",
    "gen_rand = lambda x: np.random.randint(0, int(x))\n",
    "\n",
    "for n_station in range(1,5):\n",
    "    for n_day in range(1,5):\n",
    "        for n_hour in range(0, 24):\n",
    "            timestamp = dt.datetime(2018, 10, n_day, n_hour, 0,0).isoformat()\n",
    "            \n",
    "            dataset[\"station_id\"].append(n_station)\n",
    "            dataset[\"base_timestamp\"].append(timestamp)\n",
    "            dataset[\"t_inside\"].append(gen_rand(t_max*alpha_inside))\n",
    "            dataset[\"t_near\"].append(gen_rand(t_max*alpha_near))\n",
    "            dataset[\"t_far\"].append(gen_rand(t_max*alpha_far))\n",
    "            dataset[\"n_inside\"].append(gen_rand(n_max*alpha_inside))\n",
    "            dataset[\"n_near\"].append(gen_rand(n_max*alpha_near))\n",
    "            dataset[\"n_far\"].append(gen_rand(n_max*alpha_far))"
   ]
  },
  {
   "cell_type": "code",
   "execution_count": 3,
   "metadata": {
    "scrolled": true
   },
   "outputs": [],
   "source": [
    "pd_dataset = pd.DataFrame(dataset)"
   ]
  },
  {
   "cell_type": "code",
   "execution_count": 4,
   "metadata": {
    "scrolled": true
   },
   "outputs": [],
   "source": [
    "#selecione a estacao a seguir\n",
    "station_id_filter = 1 #numero da estacao\n",
    "\n",
    "pd_dataset_filtered = pd_dataset[pd_dataset[\"station_id\"] == station_id_filter]\n",
    "\n",
    "x_time_1 = pd_dataset_filtered['base_timestamp']\n",
    "y_inside_1 = pd_dataset_filtered['t_inside'] / pd_dataset_filtered['n_inside']     #tempo medio\n",
    "y_near_1 = pd_dataset_filtered['t_near'] / pd_dataset_filtered['n_near']           #tempo medio\n",
    "y_far_1 = pd_dataset_filtered['t_far'] / pd_dataset_filtered['n_far']              #tempo medio"
   ]
  },
  {
   "cell_type": "code",
   "execution_count": 5,
   "metadata": {
    "scrolled": true
   },
   "outputs": [],
   "source": [
    "#selecione a estacao a seguir\n",
    "station_id_filter = 2 #numero da estacao\n",
    "\n",
    "pd_dataset_filtered = pd_dataset[pd_dataset[\"station_id\"] == station_id_filter]\n",
    "\n",
    "x_time_2 = pd_dataset_filtered['base_timestamp']\n",
    "y_inside_2 = pd_dataset_filtered['t_inside'] / pd_dataset_filtered['n_inside']     #tempo medio\n",
    "y_near_2 = pd_dataset_filtered['t_near'] / pd_dataset_filtered['n_near']           #tempo medio\n",
    "y_far_2 = pd_dataset_filtered['t_far'] / pd_dataset_filtered['n_far']              #tempo medio"
   ]
  },
  {
   "cell_type": "code",
   "execution_count": 6,
   "metadata": {},
   "outputs": [],
   "source": [
    "#estacao 1\n",
    "trace_inside_1 = go.Bar(\n",
    "            x = x_time_1,\n",
    "            y = y_inside_1,\n",
    "            name = 'inside'\n",
    "    )\n",
    "\n",
    "trace_near_1 = go.Bar(\n",
    "            x = x_time_1,\n",
    "            y = y_near_1,\n",
    "            name = 'near'\n",
    "    )\n",
    "\n",
    "trace_far_1 = go.Bar(\n",
    "            x = x_time_1,\n",
    "            y = y_far_1,\n",
    "            name = 'far'\n",
    "    )\n",
    "\n",
    "#estacao 2\n",
    "trace_inside_2 = go.Bar(\n",
    "            x = x_time_2,\n",
    "            y = y_inside_2,\n",
    "            name = 'inside'\n",
    "    )\n",
    "\n",
    "trace_near_2 = go.Bar(\n",
    "            x = x_time_2,\n",
    "            y = y_near_2,\n",
    "            name = 'near'\n",
    "    )\n",
    "\n",
    "trace_far_2 = go.Bar(\n",
    "            x = x_time_2,\n",
    "            y = y_far_2,\n",
    "            name = 'far'\n",
    "    )\n",
    "\n",
    "data = [trace_inside_1, trace_near_1, trace_far_1, trace_inside_2, trace_near_2, trace_far_2]"
   ]
  },
  {
   "cell_type": "code",
   "execution_count": 7,
   "metadata": {},
   "outputs": [],
   "source": [
    "updatemenus = list([\n",
    "    dict(active=0,\n",
    "         buttons=list([   \n",
    "            dict(label = 'Estacao 1 - urca',\n",
    "                 method = 'update',\n",
    "                 args = [{'visible': [True, True, True, False, False, False]},\n",
    "                         {'title': 'Estacao 1 - urca'}]),\n",
    "            dict(label = 'Estacao 4 - botfy',\n",
    "                 method = 'update',\n",
    "                 args = [{'visible': [False, False, False, True, True, True]},\n",
    "                         {'title': 'Estacao 4 - botfy'}])\n",
    "        ]),\n",
    "    )\n",
    "])"
   ]
  },
  {
   "cell_type": "code",
   "execution_count": null,
   "metadata": {
    "scrolled": false
   },
   "outputs": [],
   "source": [
    "#bar_type = 'group'\n",
    "bar_type = 'stack'\n",
    "\n",
    "layout = dict(barmode=bar_type, updatemenus=updatemenus)\n",
    "\n",
    "fig = dict(data=data, layout=layout)\n",
    "\n",
    "py.iplot(fig, filename = 'tempo medio X data')"
   ]
  },
  {
   "cell_type": "code",
   "execution_count": 4,
   "metadata": {
    "scrolled": true
   },
   "outputs": [],
   "source": []
  },
  {
   "cell_type": "code",
   "execution_count": null,
   "metadata": {},
   "outputs": [],
   "source": []
  }
 ],
 "metadata": {
  "kernelspec": {
   "display_name": "Python 3",
   "language": "python",
   "name": "python3"
  },
  "language_info": {
   "codemirror_mode": {
    "name": "ipython",
    "version": 3
   },
   "file_extension": ".py",
   "mimetype": "text/x-python",
   "name": "python",
   "nbconvert_exporter": "python",
   "pygments_lexer": "ipython3",
   "version": "3.5.2"
  }
 },
 "nbformat": 4,
 "nbformat_minor": 2
}
