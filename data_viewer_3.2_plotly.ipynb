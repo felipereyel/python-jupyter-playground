{
 "cells": [
  {
   "cell_type": "code",
   "execution_count": 1,
   "metadata": {},
   "outputs": [],
   "source": [
    "import numpy as np\n",
    "import datetime as dt\n",
    "import pandas as pd\n",
    "import plotly\n",
    "import plotly.plotly as py\n",
    "import plotly.graph_objs as go"
   ]
  },
  {
   "cell_type": "code",
   "execution_count": 48,
   "metadata": {},
   "outputs": [],
   "source": [
    "dataset = {\n",
    "    \"station_id\": [],\n",
    "    \"base_timestamp\": [],\n",
    "    \"t_inside\": [],\n",
    "    \"t_near\": [],\n",
    "    \"t_far\": [],\n",
    "    \"n_inside\": [],\n",
    "    \"n_near\": [],\n",
    "    \"n_far\": []\n",
    "}\n",
    "n_max = 10000\n",
    "t_max = 300000\n",
    "alpha_inside = 0.01\n",
    "alpha_near = 0.2\n",
    "alpha_far = 1\n",
    "\n",
    "gen_rand = lambda x: np.random.randint(0, int(x))\n",
    "\n",
    "for n_station in range(1,5):\n",
    "    for n_day in range(1,5):\n",
    "        for n_hour in range(0, 24):\n",
    "            timestamp = dt.datetime(2018, 10, n_day, n_hour, 0,0).isoformat()\n",
    "            \n",
    "            dataset[\"station_id\"].append(n_station)\n",
    "            dataset[\"base_timestamp\"].append(timestamp)\n",
    "            dataset[\"t_inside\"].append(gen_rand(t_max*alpha_inside))\n",
    "            dataset[\"t_near\"].append(gen_rand(t_max*alpha_near))\n",
    "            dataset[\"t_far\"].append(gen_rand(t_max*alpha_far))\n",
    "            dataset[\"n_inside\"].append(gen_rand(n_max*alpha_inside))\n",
    "            dataset[\"n_near\"].append(gen_rand(n_max*alpha_near))\n",
    "            dataset[\"n_far\"].append(gen_rand(n_max*alpha_far))"
   ]
  },
  {
   "cell_type": "code",
   "execution_count": 49,
   "metadata": {
    "scrolled": true
   },
   "outputs": [],
   "source": [
    "pd_dataset = pd.DataFrame(dataset)"
   ]
  },
  {
   "cell_type": "code",
   "execution_count": 50,
   "metadata": {},
   "outputs": [],
   "source": [
    "lista_nomes = ['', 'urca', 'botfy', 'copa', 'xereu']\n",
    "regioes = ['inside', 'near', 'far']\n",
    "lista_stations = pd_dataset['station_id'].unique()\n",
    "nr_stations = len(lista_stations)\n",
    "nr_traces = 3"
   ]
  },
  {
   "cell_type": "code",
   "execution_count": 51,
   "metadata": {},
   "outputs": [],
   "source": [
    "def trace_str(regiao, pd_dataset_filtered):\n",
    "    return go.Bar(\n",
    "                x = pd_dataset_filtered['base_timestamp'],\n",
    "                y = pd_dataset_filtered['t_'+regiao] / pd_dataset_filtered['n_'+regiao],\n",
    "                name = regiao\n",
    "        )"
   ]
  },
  {
   "cell_type": "code",
   "execution_count": 52,
   "metadata": {},
   "outputs": [],
   "source": [
    "def traces_estacao_i(station_id_filter, pd_dataset):\n",
    "    pd_dataset_filtered = pd_dataset[pd_dataset[\"station_id\"] == station_id_filter]\n",
    "    return [trace_str(regiao, pd_dataset_filtered) for regiao in regioes]"
   ]
  },
  {
   "cell_type": "code",
   "execution_count": 53,
   "metadata": {},
   "outputs": [],
   "source": [
    "def dict_button(selected_station, nr_stations, nr_traces):\n",
    "    return dict(label = 'Estacao ' + str(lista_stations[selected_station]) + ' - ' + lista_nomes[lista_stations[selected_station]],\n",
    "                method = 'update',\n",
    "                args = [{'visible': [i//nr_traces==selected_station for i in range(nr_stations*nr_traces)]},\n",
    "                        {'title': 'Estacao ' + str(lista_stations[selected_station]) + ' - ' + lista_nomes[lista_stations[selected_station]]}])"
   ]
  },
  {
   "cell_type": "code",
   "execution_count": 54,
   "metadata": {},
   "outputs": [],
   "source": [
    "def buttons_dropdown(nr_traces, nr_stations):\n",
    "    return list([dict_button(selected_station, nr_stations, nr_traces) for selected_station in range(nr_stations)]) "
   ]
  },
  {
   "cell_type": "code",
   "execution_count": 55,
   "metadata": {},
   "outputs": [],
   "source": [
    "data = []\n",
    "for i in [1, 2]:\n",
    "    data = data + traces_estacao_i(i, pd_dataset)"
   ]
  },
  {
   "cell_type": "code",
   "execution_count": 56,
   "metadata": {},
   "outputs": [],
   "source": [
    "updatemenus = list([\n",
    "    dict(active=0,\n",
    "         buttons=buttons_dropdown(nr_traces, nr_stations),\n",
    "    )\n",
    "])"
   ]
  },
  {
   "cell_type": "code",
   "execution_count": 57,
   "metadata": {
    "scrolled": false
   },
   "outputs": [
    {
     "data": {
      "text/html": [
       "<iframe id=\"igraph\" scrolling=\"no\" style=\"border:none;\" seamless=\"seamless\" src=\"https://plot.ly/~felipereyel/12.embed\" height=\"525px\" width=\"100%\"></iframe>"
      ],
      "text/plain": [
       "<plotly.tools.PlotlyDisplay object>"
      ]
     },
     "execution_count": 57,
     "metadata": {},
     "output_type": "execute_result"
    }
   ],
   "source": [
    "#bar_type = 'group'\n",
    "bar_type = 'stack'\n",
    "\n",
    "layout = dict(barmode=bar_type, updatemenus=updatemenus)\n",
    "\n",
    "fig = dict(data=data, layout=layout)\n",
    "\n",
    "py.iplot(fig, filename = 'tempo medio X data')"
   ]
  },
  {
   "cell_type": "code",
   "execution_count": 4,
   "metadata": {
    "scrolled": true
   },
   "outputs": [],
   "source": []
  },
  {
   "cell_type": "code",
   "execution_count": null,
   "metadata": {},
   "outputs": [],
   "source": []
  }
 ],
 "metadata": {
  "kernelspec": {
   "display_name": "Python 3",
   "language": "python",
   "name": "python3"
  },
  "language_info": {
   "codemirror_mode": {
    "name": "ipython",
    "version": 3
   },
   "file_extension": ".py",
   "mimetype": "text/x-python",
   "name": "python",
   "nbconvert_exporter": "python",
   "pygments_lexer": "ipython3",
   "version": "3.5.2"
  }
 },
 "nbformat": 4,
 "nbformat_minor": 2
}
