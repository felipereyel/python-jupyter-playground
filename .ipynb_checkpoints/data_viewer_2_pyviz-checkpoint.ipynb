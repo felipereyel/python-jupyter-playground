{
 "cells": [
  {
   "cell_type": "code",
   "execution_count": 2,
   "metadata": {},
   "outputs": [],
   "source": [
    "import numpy as np\n",
    "import datetime as dt\n",
    "import pandas as pd\n",
    "import plotly\n",
    "import plotly.plotly as py\n",
    "import plotly.graph_objs as go"
   ]
  },
  {
   "cell_type": "code",
   "execution_count": 3,
   "metadata": {},
   "outputs": [],
   "source": [
    "dataset = {\n",
    "    \"station_id\": [],\n",
    "    \"base_timestamp\": [],\n",
    "    \"t_inside\": [],\n",
    "    \"t_near\": [],\n",
    "    \"t_far\": [],\n",
    "    \"n_inside\": [],\n",
    "    \"n_near\": [],\n",
    "    \"n_far\": []\n",
    "}\n",
    "n_max = 10000\n",
    "t_max = 300000\n",
    "alpha_inside = 0.01\n",
    "alpha_near = 0.2\n",
    "alpha_far = 1\n",
    "\n",
    "gen_rand = lambda x: np.random.randint(0, int(x))\n",
    "\n",
    "for n_station in range(1,5):\n",
    "    for n_day in range(1,5):\n",
    "        for n_hour in range(0, 24):\n",
    "            timestamp = dt.datetime(2018, 10, n_day, n_hour, 0,0).isoformat()\n",
    "            \n",
    "            dataset[\"station_id\"].append(n_station)\n",
    "            dataset[\"base_timestamp\"].append(timestamp)\n",
    "            dataset[\"t_inside\"].append(gen_rand(t_max*alpha_inside))\n",
    "            dataset[\"t_near\"].append(gen_rand(t_max*alpha_near))\n",
    "            dataset[\"t_far\"].append(gen_rand(t_max*alpha_far))\n",
    "            dataset[\"n_inside\"].append(gen_rand(n_max*alpha_inside))\n",
    "            dataset[\"n_near\"].append(gen_rand(n_max*alpha_near))\n",
    "            dataset[\"n_far\"].append(gen_rand(n_max*alpha_far))"
   ]
  },
  {
   "cell_type": "code",
   "execution_count": 4,
   "metadata": {
    "scrolled": true
   },
   "outputs": [],
   "source": [
    "pd_dataset = pd.DataFrame(dataset)"
   ]
  },
  {
   "cell_type": "code",
   "execution_count": 6,
   "metadata": {
    "scrolled": true
   },
   "outputs": [],
   "source": [
    "#selecione a estacao a seguir\n",
    "station_id_filter = 1 #numero da estacao\n",
    "\n",
    "pd_dataset_filtered = pd_dataset[pd_dataset[\"station_id\"] == station_id_filter]\n",
    "\n",
    "#serie inside - descomente qual dado deseja exibir \n",
    "y_inside_axis = pd_dataset_filtered['t_inside'] / pd_dataset_filtered['n_inside']     #tempo medio\n",
    "#y_inside_axis = pd_dataset_filtered['t_inside']                                       #tempo total\n",
    "#y_inside_axis = pd_dataset_filtered['n_inside']                                       #total dispositivos\n",
    "\n",
    "#serie near - descomente qual dado deseja exibir \n",
    "y_near_axis = pd_dataset_filtered['t_near'] / pd_dataset_filtered['n_near']           #tempo medio\n",
    "#y_near_axis = pd_dataset_filtered['t_near']                                           #tempo total\n",
    "#y_near_axis = pd_dataset_filtered['n_near']                                           #total dispositivos\n",
    "\n",
    "#escolha o tipo de agrupamento - descomente\n",
    "#bar_type = 'group'\n",
    "bar_type = 'stack'\n",
    "\n"
   ]
  },
  {
   "cell_type": "code",
   "execution_count": 8,
   "metadata": {
    "scrolled": false
   },
   "outputs": [
    {
     "data": {
      "text/html": [
       "<iframe id=\"igraph\" scrolling=\"no\" style=\"border:none;\" seamless=\"seamless\" src=\"https://plot.ly/~felipereyel/8.embed\" height=\"525px\" width=\"100%\"></iframe>"
      ],
      "text/plain": [
       "<plotly.tools.PlotlyDisplay object>"
      ]
     },
     "execution_count": 8,
     "metadata": {},
     "output_type": "execute_result"
    }
   ],
   "source": [
    "trace_inside = go.Bar(\n",
    "            x = pd_dataset_filtered['base_timestamp'],\n",
    "            y = y_inside_axis,\n",
    "            name = 'inside'\n",
    "    )\n",
    "\n",
    "trace_near = go.Bar(\n",
    "            x = pd_dataset_filtered['base_timestamp'],\n",
    "            y = y_near_axis,\n",
    "            name = 'near'\n",
    "    )\n",
    "\n",
    "data_A = [trace_inside, trace_near]\n",
    "\n",
    "layout_A = go.Layout(\n",
    "    barmode = bar_type,\n",
    "    title = 'n_near e n_inside X tempo<br>station ' + str(station_id_filter)\n",
    ")\n",
    "fig = go.Figure (data = data_A, layout = layout_A)\n",
    "py.iplot(fig, filename = 'numero de dispositivos dentro e perto X tempo')"
   ]
  },
  {
   "cell_type": "code",
   "execution_count": 4,
   "metadata": {
    "scrolled": true
   },
   "outputs": [],
   "source": []
  },
  {
   "cell_type": "code",
   "execution_count": null,
   "metadata": {},
   "outputs": [],
   "source": []
  }
 ],
 "metadata": {
  "kernelspec": {
   "display_name": "Python 3",
   "language": "python",
   "name": "python3"
  },
  "language_info": {
   "codemirror_mode": {
    "name": "ipython",
    "version": 3
   },
   "file_extension": ".py",
   "mimetype": "text/x-python",
   "name": "python",
   "nbconvert_exporter": "python",
   "pygments_lexer": "ipython3",
   "version": "3.5.2"
  }
 },
 "nbformat": 4,
 "nbformat_minor": 2
}
