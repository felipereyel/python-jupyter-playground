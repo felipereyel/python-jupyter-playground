{
 "cells": [
  {
   "cell_type": "code",
   "execution_count": 4,
   "metadata": {},
   "outputs": [],
   "source": [
    "import plotly.plotly as py\n",
    "import plotly.graph_objs as go \n",
    "\n",
    "from datetime import datetime\n",
    "import pandas_datareader as web\n",
    "\n",
    "df = web.DataReader(\"aapl\", 'yahoo',\n",
    "                    datetime(2015, 1, 1),\n",
    "                    datetime(2016, 7, 1))"
   ]
  },
  {
   "cell_type": "code",
   "execution_count": 5,
   "metadata": {},
   "outputs": [],
   "source": [
    "trace_high = go.Scatter(x=list(df.index),\n",
    "                        y=list(df.High),\n",
    "                        name='High',\n",
    "                        line=dict(color='#33CFA5'))\n",
    "\n",
    "trace_high_avg = go.Scatter(x=list(df.index),\n",
    "                            y=[df.High.mean()]*len(df.index),\n",
    "                            name='High Average',\n",
    "                            visible=False,\n",
    "                            line=dict(color='#33CFA5', dash='dash'))\n",
    "\n",
    "trace_low = go.Scatter(x=list(df.index),\n",
    "                       y=list(df.Low),\n",
    "                       name='Low',\n",
    "                       line=dict(color='#F06A6A'))\n",
    "\n",
    "trace_low_avg = go.Scatter(x=list(df.index),\n",
    "                           y=[df.Low.mean()]*len(df.index),\n",
    "                           name='Low Average',\n",
    "                           visible=False,\n",
    "                           line=dict(color='#F06A6A', dash='dash'))\n",
    "\n",
    "data = [trace_high, trace_high_avg, trace_low, trace_low_avg]"
   ]
  },
  {
   "cell_type": "code",
   "execution_count": 11,
   "metadata": {},
   "outputs": [],
   "source": [
    "updatemenus = list([\n",
    "    dict(active=0,\n",
    "         buttons=list([   \n",
    "            dict(label = 'High',\n",
    "                 method = 'update',\n",
    "                 args = [{'visible': [True, True, False, False]},\n",
    "                         {'title': 'Yahoo High'}]),\n",
    "            dict(label = 'Low',\n",
    "                 method = 'update',\n",
    "                 args = [{'visible': [False, False, True, True]},\n",
    "                         {'title': 'Yahoo Low'}]),\n",
    "            dict(label = 'Both',\n",
    "                 method = 'update',\n",
    "                 args = [{'visible': [True, True, True, True]},\n",
    "                         {'title': 'Yahoo'}]),\n",
    "            dict(label = 'Reset',\n",
    "                 method = 'update',\n",
    "                 args = [{'visible': [True, False, True, False]},\n",
    "                         {'title': 'Yahoo'}])\n",
    "        ]),\n",
    "    )\n",
    "])"
   ]
  },
  {
   "cell_type": "code",
   "execution_count": 12,
   "metadata": {},
   "outputs": [
    {
     "data": {
      "text/html": [
       "<iframe id=\"igraph\" scrolling=\"no\" style=\"border:none;\" seamless=\"seamless\" src=\"https://plot.ly/~felipereyel/10.embed\" height=\"525px\" width=\"100%\"></iframe>"
      ],
      "text/plain": [
       "<plotly.tools.PlotlyDisplay object>"
      ]
     },
     "execution_count": 12,
     "metadata": {},
     "output_type": "execute_result"
    }
   ],
   "source": [
    "layout = dict(title='Yahoo', showlegend=False,\n",
    "              updatemenus=updatemenus)\n",
    "\n",
    "fig = dict(data=data, layout=layout)\n",
    "py.iplot(fig, filename='update_dropdown')"
   ]
  },
  {
   "cell_type": "code",
   "execution_count": null,
   "metadata": {},
   "outputs": [],
   "source": []
  },
  {
   "cell_type": "code",
   "execution_count": null,
   "metadata": {},
   "outputs": [],
   "source": []
  }
 ],
 "metadata": {
  "kernelspec": {
   "display_name": "Python 3",
   "language": "python",
   "name": "python3"
  },
  "language_info": {
   "codemirror_mode": {
    "name": "ipython",
    "version": 3
   },
   "file_extension": ".py",
   "mimetype": "text/x-python",
   "name": "python",
   "nbconvert_exporter": "python",
   "pygments_lexer": "ipython3",
   "version": "3.5.2"
  }
 },
 "nbformat": 4,
 "nbformat_minor": 2
}
